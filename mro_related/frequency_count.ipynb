{
 "cells": [
  {
   "cell_type": "code",
   "execution_count": 7,
   "id": "fe3ea076",
   "metadata": {},
   "outputs": [],
   "source": [
    "import csv\n",
    "from collections import Counter\n",
    "import pandas as pd\n",
    "from math import log\n",
    "from sklearn.feature_extraction.text import TfidfVectorizer\n",
    "import json"
   ]
  },
  {
   "cell_type": "code",
   "execution_count": 2,
   "id": "cb2f6141",
   "metadata": {},
   "outputs": [],
   "source": [
    "year_list = ['2011', '2012', '2013','2014','2015','2016','2017','2018','2019','2020']"
   ]
  },
  {
   "cell_type": "code",
   "execution_count": 5,
   "id": "ad86115b",
   "metadata": {},
   "outputs": [
    {
     "ename": "KeyboardInterrupt",
     "evalue": "",
     "output_type": "error",
     "traceback": [
      "\u001b[1;31m---------------------------------------------------------------------------\u001b[0m",
      "\u001b[1;31mKeyboardInterrupt\u001b[0m                         Traceback (most recent call last)",
      "\u001b[1;32m<ipython-input-5-803e6589a756>\u001b[0m in \u001b[0;36m<module>\u001b[1;34m\u001b[0m\n\u001b[0;32m      7\u001b[0m         \u001b[0mtmp_line\u001b[0m \u001b[1;33m=\u001b[0m \u001b[0mlist\u001b[0m\u001b[1;33m(\u001b[0m\u001b[1;33m)\u001b[0m\u001b[1;33m\u001b[0m\u001b[1;33m\u001b[0m\u001b[0m\n\u001b[0;32m      8\u001b[0m         \u001b[0mtmp_line\u001b[0m \u001b[1;33m=\u001b[0m \u001b[1;33m[\u001b[0m\u001b[0mword\u001b[0m\u001b[1;33m.\u001b[0m\u001b[0mrstrip\u001b[0m\u001b[1;33m(\u001b[0m\u001b[1;34m'\\n'\u001b[0m\u001b[1;33m)\u001b[0m \u001b[1;32mfor\u001b[0m \u001b[0mword\u001b[0m \u001b[1;32min\u001b[0m \u001b[0mline\u001b[0m \u001b[1;32mif\u001b[0m \u001b[0mword\u001b[0m \u001b[1;33m!=\u001b[0m \u001b[1;34m''\u001b[0m\u001b[1;33m]\u001b[0m\u001b[1;33m\u001b[0m\u001b[1;33m\u001b[0m\u001b[0m\n\u001b[1;32m----> 9\u001b[1;33m         \u001b[0mword_list\u001b[0m \u001b[1;33m=\u001b[0m \u001b[0mword_list\u001b[0m \u001b[1;33m+\u001b[0m \u001b[0mtmp_line\u001b[0m\u001b[1;33m\u001b[0m\u001b[1;33m\u001b[0m\u001b[0m\n\u001b[0m\u001b[0;32m     10\u001b[0m \u001b[1;33m\u001b[0m\u001b[0m\n\u001b[0;32m     11\u001b[0m     \u001b[1;31m#word_list = [word.rstrip('\\n') for word in word_list]\u001b[0m\u001b[1;33m\u001b[0m\u001b[1;33m\u001b[0m\u001b[1;33m\u001b[0m\u001b[0m\n",
      "\u001b[1;31mKeyboardInterrupt\u001b[0m: "
     ]
    }
   ],
   "source": [
    "for year in year_list:\n",
    "    word_list = list()\n",
    "    tmp_line = list()\n",
    "    file = open('C:/Users/happy/Coding/jupyter/crawler/MROpaper/'+year+'.csv','r',encoding='utf-8')\n",
    "    reader = csv.reader(file)\n",
    "    \n",
    "    for line in reader:\n",
    "        tmp_line = [word.rstrip('\\n') for word in line if word != '']\n",
    "        word_list = word_list + tmp_line\n",
    "        \n",
    "    #word_list = [word.rstrip('\\n') for word in word_list]\n",
    "    \n",
    "    counter = Counter(word_list)\n",
    "    word_count = dict(counter.most_common())\n",
    "    \n",
    "    file.close()\n",
    "    \n",
    "    with open ('C:/Users/happy/Coding/jupyter/crawler/MROpaper/frequency/fre/'+year+'.json','w') as f:\n",
    "        json.dump(word_count, f)"
   ]
  },
  {
   "cell_type": "code",
   "execution_count": 8,
   "id": "a8af13e5",
   "metadata": {},
   "outputs": [],
   "source": [
    "# 2011~2020 빈도수 총합\n",
    "total = dict()\n",
    "for year in year_list:\n",
    "    tmp_line = list()\n",
    "    file = open('C:/Users/happy/Coding/jupyter/crawler/MROpaper/frequency/fre/'+year+'.json','r',encoding='utf-8')\n",
    "    tmp = json.load(file)\n",
    "    \n",
    "    total = Counter(total) + Counter(tmp)\n",
    "    #word_list = [word.rstrip('\\n') for word in word_list]\n",
    "    \n",
    "    file.close()\n",
    "\n",
    "counter = Counter(total)\n",
    "word_count = dict(counter.most_common())\n",
    "\n",
    "with open ('C:/Users/happy/Coding/jupyter/crawler/MROpaper/frequency/fre/2011_2020.json','w') as f:\n",
    "    json.dump(word_count, f)"
   ]
  },
  {
   "cell_type": "code",
   "execution_count": 11,
   "id": "02ca17b2",
   "metadata": {},
   "outputs": [],
   "source": [
    "file = open('C:/Users/happy/Coding/jupyter/crawler/MROpaper/frequency/fre/fre_2011_2020.json','r',encoding='utf-8')\n",
    "fre = json.load(file)\n",
    "file.close()\n",
    "\n",
    "with open('C:/Users/happy/Coding/jupyter/crawler/MROpaper/frequency/fre/fre_2011_2020.csv','w',newline = '',encoding='utf-8') as f:  \n",
    "    writer = csv.writer(f)\n",
    "    for k, v in fre.items():\n",
    "        writer.writerow([k, v])"
   ]
  },
  {
   "cell_type": "code",
   "execution_count": 3,
   "id": "5a03459a",
   "metadata": {},
   "outputs": [],
   "source": [
    "#tf-idf\n",
    "for year in year_list:\n",
    "    doc_list = list()\n",
    "    word_list = list()\n",
    "    doc_cnt = 0\n",
    "    txt = ''\n",
    "\n",
    "    file = open('C:/Users/happy/Coding/jupyter/crawler/MROpaper/'+year+'.csv','r',encoding='utf-8')\n",
    "    reader = csv.reader(file)\n",
    "\n",
    "    for line in reader:\n",
    "        word_list = [word.rstrip('\\n') for word in line]\n",
    "        txt = ' '.join(word_list)    \n",
    "        doc_list.append(txt)\n",
    "        doc_cnt += 1\n",
    "    \n",
    "    file.close()\n",
    "\n",
    "    vectorizer  = TfidfVectorizer(min_df = 2, max_features = 500, analyzer = 'word')\n",
    "\n",
    "    tfidfv = vectorizer.fit(doc_list)\n",
    "    tfidfa = tfidfv.transform(doc_list).toarray()\n",
    "    \n",
    "    df = pd.DataFrame(tfidfa, columns = sorted(tfidfv.vocabulary_))\n",
    "\n",
    "    df.to_csv('C:/Users/happy/Coding/jupyter/crawler/MROpaper/frequency/tf-idf/'+year+'.csv',mode = 'w')"
   ]
  },
  {
   "cell_type": "code",
   "execution_count": null,
   "id": "7d9b79d4",
   "metadata": {},
   "outputs": [],
   "source": [
    "# tf-idf 2011~2020 총합\n",
    "doc_list = list()\n",
    "doc_cnt = 0\n",
    "\n",
    "for year in year_list:\n",
    "    abstract = list()\n",
    "    txt = ''\n",
    "\n",
    "    file = open('C:/Users/happy/Coding/jupyter/crawler/MROpaper/'+year+'.csv','r',encoding='utf-8')\n",
    "    reader = csv.reader(file)\n",
    "\n",
    "    for line in reader:\n",
    "        abstract = [word.rstrip('\\n') for word in line]\n",
    "        txt = ' '.join(abstract)    \n",
    "        doc_list.append(txt)\n",
    "        doc_cnt += 1\n",
    "    \n",
    "    file.close()\n",
    "\n",
    "vectorizer  = TfidfVectorizer(min_df = 2, max_features = 500, analyzer = 'word')\n",
    "\n",
    "tfidfv = vectorizer.fit(doc_list)\n",
    "tfidfa = tfidfv.transform(doc_list).toarray()\n",
    "\n",
    "df = pd.DataFrame(tfidfa, columns = sorted(tfidfv.vocabulary_))\n",
    "\n",
    "df.to_csv('C:/Users/happy/Coding/jupyter/crawler/MROpaper/frequency/tf-idf/2011_2020.csv',mode = 'w')"
   ]
  },
  {
   "cell_type": "code",
   "execution_count": null,
   "id": "f740a85e",
   "metadata": {},
   "outputs": [],
   "source": [
    "---------------------------테스트--------------------------------------"
   ]
  },
  {
   "cell_type": "code",
   "execution_count": 42,
   "id": "4930de86",
   "metadata": {},
   "outputs": [],
   "source": [
    "doc_list = list()\n",
    "word_list = list()\n",
    "doc_cnt = 0\n",
    "txt = ''\n",
    "\n",
    "file = open('C:/Users/happy/Coding/jupyter/crawler/MROpaper/2011.csv','r',encoding='utf-8')\n",
    "reader = csv.reader(file)\n",
    "\n",
    "for line in reader:\n",
    "    word_list = [word.rstrip('\\n') for word in line]\n",
    "    txt = ' '.join(word_list)    \n",
    "    doc_list.append(txt)\n",
    "    doc_cnt += 1\n",
    "\n",
    "file.close()\n",
    "\n",
    "vectorizer  = TfidfVectorizer(min_df = 2, max_features = 500, analyzer = 'word')\n",
    "\n",
    "tfidfv = vectorizer.fit(doc_list)\n",
    "tfidfa = tfidfv.transform(doc_list)"
   ]
  },
  {
   "cell_type": "code",
   "execution_count": 40,
   "id": "d6493265",
   "metadata": {},
   "outputs": [],
   "source": [
    "import gensim\n",
    "from sklearn.decomposition import LatentDirichletAllocation"
   ]
  },
  {
   "cell_type": "code",
   "execution_count": 43,
   "id": "29e24521",
   "metadata": {},
   "outputs": [
    {
     "name": "stdout",
     "output_type": "stream",
     "text": [
      "Topic 1: [('use', 72.04), ('system', 67.15), ('study', 60.92), ('model', 58.42), ('paper', 57.33)]\n",
      "Topic 2: [('use', 1.2), ('phase', 1.07), ('increase', 1.07), ('space', 0.97), ('time', 0.88)]\n",
      "Topic 3: [('model', 5.93), ('paper', 5.67), ('use', 5.55), ('system', 5.44), ('safety', 5.16)]\n",
      "Topic 4: [('crack', 8.2), ('repair', 6.07), ('composite', 4.93), ('stress', 4.89), ('structure', 4.27)]\n",
      "Topic 5: [('lean', 1.07), ('production', 0.79), ('state', 0.78), ('design', 0.78), ('approach', 0.76)]\n",
      "Topic 6: [('aircraft', 0.99), ('safety', 0.76), ('regulation', 0.74), ('price', 0.65), ('change', 0.65)]\n",
      "Topic 7: [('energy', 0.88), ('model', 0.59), ('work', 0.59), ('country', 0.54), ('well', 0.52)]\n",
      "Topic 8: [('system', 1.35), ('use', 1.14), ('industry', 1.02), ('model', 1.01), ('leadership', 0.93)]\n",
      "Topic 9: [('infrastructure', 0.67), ('resource', 0.64), ('life', 0.51), ('new', 0.51), ('system', 0.51)]\n",
      "Topic 10: [('aircraft', 1.57), ('impact', 1.38), ('failure', 1.37), ('use', 1.3), ('maintenance', 1.27)]\n"
     ]
    }
   ],
   "source": [
    "lda_model = LatentDirichletAllocation(n_components=10,learning_method='online',random_state=777,max_iter=1)\n",
    "\n",
    "lda_top = lda_model.fit_transform(tfidfa)\n",
    "\n",
    "terms = vectorizer.get_feature_names()\n",
    "\n",
    "def get_topics(components, feature_names, n=5):\n",
    "    for idx, topic in enumerate(components):\n",
    "        print(\"Topic %d:\" % (idx+1), [(feature_names[i], topic[i].round(2)) for i in topic.argsort()[:-n - 1:-1]])\n",
    "\n",
    "get_topics(lda_model.components_,terms)"
   ]
  },
  {
   "cell_type": "code",
   "execution_count": 36,
   "id": "392a4508",
   "metadata": {},
   "outputs": [],
   "source": [
    "df = pd.DataFrame(tfidfa, columns = sorted(tfidfv.vocabulary_))\n",
    "\n",
    "df.to_csv('tfidf_2011.csv',mode = 'w')"
   ]
  }
 ],
 "metadata": {
  "kernelspec": {
   "display_name": "Python 3",
   "language": "python",
   "name": "python3"
  },
  "language_info": {
   "codemirror_mode": {
    "name": "ipython",
    "version": 3
   },
   "file_extension": ".py",
   "mimetype": "text/x-python",
   "name": "python",
   "nbconvert_exporter": "python",
   "pygments_lexer": "ipython3",
   "version": "3.8.8"
  },
  "toc": {
   "base_numbering": 1,
   "nav_menu": {},
   "number_sections": true,
   "sideBar": true,
   "skip_h1_title": false,
   "title_cell": "Table of Contents",
   "title_sidebar": "Contents",
   "toc_cell": false,
   "toc_position": {},
   "toc_section_display": true,
   "toc_window_display": false
  },
  "varInspector": {
   "cols": {
    "lenName": 16,
    "lenType": 16,
    "lenVar": 40
   },
   "kernels_config": {
    "python": {
     "delete_cmd_postfix": "",
     "delete_cmd_prefix": "del ",
     "library": "var_list.py",
     "varRefreshCmd": "print(var_dic_list())"
    },
    "r": {
     "delete_cmd_postfix": ") ",
     "delete_cmd_prefix": "rm(",
     "library": "var_list.r",
     "varRefreshCmd": "cat(var_dic_list()) "
    }
   },
   "types_to_exclude": [
    "module",
    "function",
    "builtin_function_or_method",
    "instance",
    "_Feature"
   ],
   "window_display": false
  }
 },
 "nbformat": 4,
 "nbformat_minor": 5
}
