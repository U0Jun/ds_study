{
 "cells": [
  {
   "cell_type": "code",
   "execution_count": 1,
   "id": "e0150dbf",
   "metadata": {},
   "outputs": [],
   "source": [
    "import csv\n",
    "from collections import Counter"
   ]
  },
  {
   "cell_type": "code",
   "execution_count": 2,
   "id": "f9416603",
   "metadata": {},
   "outputs": [],
   "source": [
    "year_list = ['2011', '2012', '2013','2014','2015','2016','2017','2018','2019','2020']"
   ]
  },
  {
   "cell_type": "code",
   "execution_count": 3,
   "id": "5c005572",
   "metadata": {},
   "outputs": [
    {
     "name": "stdout",
     "output_type": "stream",
     "text": [
      "['use', 'paper', 'study', 'model', 'research', 'data', 'result', 'analysis', 'approach', 'base', 'also', 'airline', 'propose', 'case', 'purpose', 'literature', 'aim', 'air', 'airport', 'chapter', 'author', 'well', 'review', 'apply', 'first', 'analyze', 'year', 'report', 'real', 'group', 'second', 'thus', 'phase', 'theoretical', 'step', 'still', 'fleet', 'european', 'china', 'yet', 'grey', 'india', 'others', 'hence', 'cent', 'third', 'final', 'thing', 'railway', 'etc', 'south', 'industrythe', 'ten', 'japan', 'russia', 'angle', 'iss', 'whereas', 'lot', 'africa', 'month', 'rul', 'say', 'east', 'usd', 'north', 'america', 'pacific', 'russian', 'graph', 'dubai', 'never', 'turkish', 'australia', 'japanese', 'ann', 'hong', 'fourth', 'african', 'mile', 'western', 'brazilian', 'ism', 'sort', 'nowadays', 'kingdom', 'saudi', 'malaysia', 'secondly', 'airways', 'france', 'canada', 'arab', 'emirates', 'december', 'iii', 'latin', 'per', 'york', 'september', 'href', 'span', 'class', 'topiclink', 'sciencedirect', 'title', 'aviation', 'aircraft', 'airplane', 'flowchart', 'publisher', 'vietnam', 'arabia', 'abstractthe', 'abc', 'iag', 'aer', 'lufthansa', 'myanmar', 'libya', 'afghanistan', 'hfe', 'syrian', 'dna', 'cancer', 'melanoma', 'genomic', 'circadian', 'gene', 'doctor', 'toyota', 'kuwait', 'ghana', 'men', 'raisa', 'hilbert', 'pbms', 'lingus', 'cbjvs', 'despps', 'nepal', 'honeywell', 'macau', 'nff', 'medication', 'arctic', 'istanbuls', 'antonov', 'mbis', 'mlg', 'sukuk', 'tumor', 'somali', 'colombia', 'cuxd', 'fsft', 'idvcoll', 'tether', 'cocoa', 'immune', 'ekf', 'hofs', 'sup', 'mhz', 'thz', 'guthi', 'edition', 'egyptian', 'mem', 'scotland', 'lbbd', 'kfa', 'fha', 'however', 'especiallit', 'themwith', 'themesa', 'volcano', 'drug', 'paris', 'moon', 'google', 'june', 'adult', 'league', 'house', 'wine', 'lamb', 'shopping', 'garuda', 'arabic', 'egyptair', 'egt', 'infection', 'soviet', 'iraq', 'justice', 'halal', 'hurricane', 'classroom', 'biology', 'zealand', 'honeycomb', 'subcriteria', 'alpha', 'nurse', 'disease', 'child', 'clinical', 'animal', 'corpus', 'virginia', 'trauma', 'islamic', 'taiwan', 'therapist', 'philippine', 'male', 'omani', 'bleed', 'island', 'sheet', 'wildlife', 'youth', 'washington', 'bureau', 'guest', 'overtourism', 'ocean', 'wartime', 'brunei', 'tobacco', 'tour', 'cardiac', 'royal', 'symbol', 'luxury', 'bit', 'taguchi', 'jordan', 'abstractthis', 'leukemia', 'persian', 'speaker', 'bacteria', 'sealevel', 'agrobased', 'protein', 'twa', 'canvas', 'ksas', 'ebanking', 'spt', 'iccb', 'muscle', 'journalist', 'obama', 'twoyear', 'australias', 'ferry', 'gray', 'lowfrequency', 'criminal', 'beta', 'masculinity', 'jeta', 'haccp', 'abstractin', 'submarine', 'cai', 'virus', 'myopia', 'autumn', 'prison', 'laden', 'sat', 'hwsw', 'kolkata', 'subway', 'cofins', 'empire', 'genome', 'chromosomal']\n"
     ]
    }
   ],
   "source": [
    "del_list = list()\n",
    "with open('C:/Users/happy/Coding/jupyter/crawler/MROpaper/del.csv','r',encoding='utf-8-sig') as del_file:\n",
    "    del_reader = csv.reader(del_file)\n",
    "    for line in del_reader:\n",
    "        tmp = [word.rstrip('\\n') for word in line]\n",
    "        del_list += tmp\n",
    "        \n",
    "print(del_list)"
   ]
  },
  {
   "cell_type": "code",
   "execution_count": 4,
   "id": "f8f6b077",
   "metadata": {
    "code_folding": []
   },
   "outputs": [],
   "source": [
    "# 단어 삭제 하기\n",
    "for year in year_list:\n",
    "    word_list = list()\n",
    "    tmp_line = list()\n",
    "    file = open('C:/Users/happy/Coding/jupyter/crawler/MROpaper/datav6/'+year+'.csv','r',encoding='utf-8-sig')\n",
    "    reader = csv.reader(file)\n",
    "\n",
    "    for line in reader:\n",
    "        tmp_line = [w.rstrip('\\n') for w in line if w not in del_list and w != \"\"]\n",
    "        word_list.append(tmp_line)      \n",
    "        \n",
    "    file.close()\n",
    "\n",
    "    for line in word_list:\n",
    "        with open('C:/Users/happy/Coding/jupyter/crawler/MROpaper/datav7/'+year+'.csv','a', newline = '', encoding='utf-8') as f:\n",
    "            wr = csv.writer(f)\n",
    "            #for word in test_lemmatized_words:\n",
    "            #    wr.writerow([word])\n",
    "            wr.writerow(line)"
   ]
  },
  {
   "cell_type": "code",
   "execution_count": 6,
   "id": "90ba6e78",
   "metadata": {
    "code_folding": [
     0
    ]
   },
   "outputs": [
    {
     "name": "stdout",
     "output_type": "stream",
     "text": [
      "2011 {'theoryfirst', 'theories', 'themdata', 'thermalmechanical', 'therapeutic', 'themesthe', 'theorist', 'thermoresilient', 'themoccurrences', 'thembased', 'themwith', 'themesa', 'thermoplasticbased', 'theil', 'theft', 'thermoplastic', 'themfour', 'thermodynamic', 'theoryinformation', 'themselvesin', 'theorya', 'theme', 'therein', 'theorypractice', 'thermophysiological', 'theoretic', 'theoryconstructed', 'theorycompanies', 'thesein', 'thermography', 'thermoelectricity', 'themincreasingly', 'themethe', 'theoretischen', 'thesaurus', 'thermographic', 'themesto', 'thermally', 'theorynewspapers', 'thermoelectric', 'theoryresourcebased', 'themto', 'themesthis', 'theoryby', 'thereinaggregate', 'thereof', 'therapyenhancement', 'themthis', 'themeresearch', 'theorem', 'theorybuilding', 'thermogravimetric', 'theorydriven', 'thempiracy', 'theoreticalempirical', 'theorization', 'thermoacoustic', 'thesispreserving', 'themtrade', 'therapist', 'thermosetting', 'thematic', 'theoriesthese', 'thematically', 'thereafter', 'therewith', 'thermal', 'themselvesplanegazing', 'theorizing', 'therefore', 'theviability', 'thermochemical', 'theorythis', 'thesis', 'theoryin', 'thesethe', 'theorybased', 'theoryidentity', 'themcase', 'theoremit', 'theorythroughout', 'thermosettingbased', 'thermodynamically', 'thermocouple', 'theodore', 'theatre', 'theorythe', 'therebut', 'thermodynamics', 'theorytwo', 'theory', 'theoretically', 'theoryinformed', 'theorydespite', 'thermoset', 'therewellmanaged', 'therapy', 'theoryconsidering', 'theoryfindings', 'theredimensional', 'theology', 'theorisation', 'themselvestimely', 'thermophysical', 'thermomechanical', 'themthe', 'thesisaviation', 'thermostable', 'thereby', 'themlimitations', 'theoreticallyadsorption', 'thermogram', 'theorize', 'thermodynamicsthis', 'theatricalization', 'theoryavailable', 'theater', 'theoriesthis', 'thema', 'theoryanalytic'}\n",
      "2012 {'theoryfirst', 'theories', 'themdata', 'thermalmechanical', 'therapeutic', 'themesthe', 'thermoresilient', 'theorist', 'themoccurrences', 'thembased', 'themesa', 'thendescribed', 'theil', 'theft', 'thermoplastic', 'themfour', 'theoreticalthe', 'thermosets', 'thermodynamic', 'theoryinformation', 'themselvesin', 'theorya', 'therein', 'theme', 'theorypractice', 'theoreticalmethodological', 'thermophysiological', 'theorise', 'theoretic', 'theoryconstructed', 'theorycompanies', 'thesein', 'thermography', 'themincreasingly', 'themethe', 'thesaurus', 'thermographic', 'themesto', 'thermally', 'theorynewspapers', 'thermoelectric', 'theoryresourcebased', 'themto', 'themesthis', 'therritory', 'theoryby', 'thereinaggregate', 'thereof', 'therapyenhancement', 'themthis', 'themeresearch', 'theorem', 'thermohydraulic', 'theorybuilding', 'theorydriven', 'thempiracy', 'theoreticalempirical', 'theorization', 'thermoacoustic', 'thesispreserving', 'themtrade', 'therapist', 'thermosetting', 'thematic', 'theoriesthese', 'thermorheological', 'thereafter', 'thematically', 'theorytesting', 'therewith', 'thermal', 'themselvesplanegazing', 'theorizing', 'therefore', 'theoriesthe', 'thermochemical', 'theorythis', 'thesis', 'theoryin', 'thesethe', 'theorybased', 'theoryidentity', 'themcase', 'theoremit', 'theorythroughout', 'thermomechanically', 'thermalstress', 'thermodynamically', 'theoretician', 'thermocouple', 'theatre', 'theorythe', 'thermodynamics', 'theorytwo', 'theory', 'theoretically', 'theoryinformed', 'theorydespite', 'thermoset', 'therewellmanaged', 'therapy', 'theoryconsidering', 'theoryfindings', 'theredimensional', 'theology', 'theorisation', 'thermalshock', 'themselvestimely', 'thermophysical', 'thermomechanical', 'theyto', 'thesisaviation', 'themthe', 'thermostable', 'thereby', 'themethis', 'themlimitations', 'thermogram', 'theoreticallyadsorption', 'theorize', 'thermodynamicsthis', 'theatricalization', 'theater', 'theoryavailable', 'theoriesthis', 'theoryanalytic', 'theoriessome', 'theoreticalpresentation'}\n",
      "2013 {'theoryfirst', 'theories', 'themdata', 'thermalmechanical', 'therapeutic', 'themesthe', 'theorist', 'thermoresilient', 'themoccurrences', 'thermoelastic', 'thembased', 'themwith', 'themesa', 'theil', 'theft', 'thermoplastic', 'themfour', 'theoryapplications', 'theoreticalthe', 'thermodynamic', 'theoryinformation', 'themselvesin', 'theorya', 'theme', 'therein', 'theorypractice', 'theoreticalmethodological', 'thermophysiological', 'theoretic', 'theoryconstructed', 'theorycompanies', 'themesdisaster', 'thesein', 'thermography', 'themincreasingly', 'themethe', 'theoretischen', 'thesaurus', 'thermographic', 'themesto', 'thermally', 'theorynewspapers', 'thermoelectric', 'theoryresourcebased', 'themto', 'themesthis', 'therritory', 'theoryby', 'thereinaggregate', 'thereof', 'therapyenhancement', 'themthis', 'themeresearch', 'theorem', 'theorybuilding', 'thermogravimetric', 'theorydriven', 'theoreticalempirical', 'thempiracy', 'theorization', 'thermoacoustic', 'thesispreserving', 'themtrade', 'therapist', 'thermosetting', 'thematic', 'theoriesthese', 'thematically', 'thereafter', 'therewith', 'thermal', 'themselvesplanegazing', 'theorizing', 'therefore', 'thermochemical', 'theorythis', 'thesis', 'theoryin', 'thesethe', 'theorybased', 'theoryidentity', 'themcase', 'theoremit', 'theorythroughout', 'thermodynamically', 'thermocouple', 'theatre', 'theorythe', 'thermodynamics', 'theorytwo', 'theory', 'theoretically', 'theoryinformed', 'theorydespite', 'thermoset', 'therewellmanaged', 'therapy', 'theoryconsidering', 'theoryfindings', 'theredimensional', 'theology', 'theorisation', 'themselvestimely', 'thermophysical', 'thermomechanical', 'themthe', 'thesisaviation', 'thermostable', 'thereby', 'themethis', 'themlimitations', 'theoreticallyadsorption', 'thermogram', 'theorize', 'thermodynamicsthis', 'theatricalization', 'thermo', 'theoryavailable', 'theater', 'theoriesthis', 'theoriessome'}\n",
      "2014 {'theoryfirst', 'theories', 'themdata', 'thermaldetector', 'thermalmechanical', 'therapeutic', 'themesthe', 'theorist', 'thermoresilient', 'themoccurrences', 'thermoelastic', 'thermoelectrics', 'thembased', 'themesa', 'theil', 'theft', 'thermoplastic', 'themfour', 'theoreticalthe', 'thermodynamic', 'theoryinformation', 'themselvesin', 'theorya', 'theme', 'therein', 'theorypractice', 'thermophysiological', 'theorise', 'theoretic', 'theoryconstructed', 'theorycompanies', 'thesein', 'thermography', 'themincreasingly', 'themethe', 'thesaurus', 'thermographic', 'themesto', 'thermally', 'thermosoftening', 'theorynewspapers', 'thermoelectric', 'theoryresourcebased', 'themto', 'thermoregulation', 'themesthis', 'therritory', 'theoryby', 'thereinaggregate', 'thereof', 'therapyenhancement', 'themthis', 'themeresearch', 'theorem', 'theatrical', 'theorybuilding', 'theorydriven', 'theoreticalempirical', 'thempiracy', 'theorization', 'thermoacoustic', 'thesispreserving', 'themtrade', 'therapist', 'thermosetting', 'thematic', 'theoriesthese', 'thematically', 'thereafter', 'therewith', 'thermal', 'themselvesplanegazing', 'theorizing', 'therefore', 'thermochemical', 'theorythis', 'thesis', 'theoryin', 'thesethe', 'theorybased', 'theoryidentity', 'themcase', 'theoremit', 'theoreticalconceptual', 'theorythroughout', 'therapydriver', 'thermomechanically', 'thermodynamically', 'thermocouple', 'thermogravimetry', 'theatre', 'theorythe', 'thermopile', 'thermodynamics', 'theorytwo', 'theory', 'theoretically', 'theoryinformed', 'theorydespite', 'thermoset', 'therewellmanaged', 'therapy', 'theoryconsidering', 'theredimensional', 'theoryfindings', 'theology', 'theorisation', 'themselvestimely', 'thermophysical', 'thermoactive', 'thermomechanical', 'themthe', 'thermostable', 'thesisaviation', 'thereby', 'themethis', 'themlimitations', 'thermogram', 'theoreticallyadsorption', 'theta', 'theorize', 'thermodynamicsthis', 'theatricalization', 'theoryavailable', 'theater', 'theoryanalytic', 'theoriesthis', 'theoriessome', 'therp'}\n",
      "2015 {'theoryfirst', 'themdata', 'theories', 'thermalmechanical', 'therapeutic', 'themesthe', 'theorist', 'thermoresilient', 'themoccurrences', 'thembased', 'themesa', 'theil', 'theft', 'thermoplastic', 'themfour', 'theoreticalthe', 'thermodynamic', 'theoryinformation', 'themselvesin', 'theorya', 'theme', 'therein', 'theorypractice', 'theoreticalmethodological', 'thermophysiological', 'theorise', 'theoretic', 'theoryconstructed', 'theorycompanies', 'thermography', 'thesein', 'themincreasingly', 'themethe', 'theoretischen', 'thesaurus', 'thermographic', 'themesto', 'thermally', 'themourselves', 'theorynewspapers', 'thermoelectric', 'theoryresourcebased', 'themto', 'themesthis', 'therritory', 'theoryby', 'thereinaggregate', 'thereof', 'therapyenhancement', 'themthis', 'themtaking', 'themeresearch', 'theorem', 'theorybuilding', 'theorydriven', 'thempiracy', 'theoreticalempirical', 'theorization', 'thermoacoustic', 'thesispreserving', 'themtrade', 'therapist', 'thermosetting', 'thematic', 'theoriesthese', 'thematically', 'thereafter', 'therewith', 'thermal', 'themselvesplanegazing', 'theorizing', 'therefore', 'theoriesthe', 'thermochemical', 'theorythis', 'thesis', 'theoryin', 'thedefining', 'thesethe', 'theorybased', 'theoryidentity', 'themcase', 'theoremit', 'theorythroughout', 'thermodynamically', 'thermocouple', 'thermopile', 'theatre', 'theorythe', 'thermodynamics', 'theorytwo', 'theory', 'theoretically', 'theoryinformed', 'theorydespite', 'thermoset', 'therewellmanaged', 'therapy', 'theoryconsidering', 'theoryfindings', 'theology', 'theorisation', 'themselvestimely', 'thermophysical', 'thermomechanical', 'thermalstructure', 'themthe', 'thermostable', 'thesisaviation', 'thereby', 'themethis', 'themlimitations', 'thermogram', 'theoreticallyadsorption', 'theorize', 'thermodynamicsthis', 'theatricalization', 'themthree', 'theater', 'theoriesthis', 'theoryavailable', 'theoriessome', 'theoreticalpresentation', 'therp'}\n"
     ]
    },
    {
     "name": "stdout",
     "output_type": "stream",
     "text": [
      "2016 {'theoryfirst', 'theories', 'themdata', 'thermalmechanical', 'therapeutic', 'themesthe', 'theorist', 'thermoresilient', 'themoccurrences', 'thembased', 'themesa', 'therapeuticsprophylactics', 'theil', 'theft', 'thermoplastic', 'themfour', 'theoreticalthe', 'thermodynamic', 'theoryinformation', 'themselvesin', 'theorya', 'theme', 'therein', 'theorypractice', 'theoreticalmethodological', 'thermophysiological', 'theorise', 'theoretic', 'theoryconstructed', 'theorycompanies', 'thesein', 'thermography', 'themincreasingly', 'themethe', 'theoretischen', 'thesaurus', 'thermographic', 'themesto', 'thermally', 'thermosyphons', 'theorynewspapers', 'thermoelectric', 'theoryresourcebased', 'themto', 'thermoeconomic', 'theatrebased', 'themesthis', 'therritory', 'theoryby', 'thereinaggregate', 'thereof', 'therapyenhancement', 'themthis', 'themeresearch', 'theorem', 'thermohydraulic', 'theorybuilding', 'thermogravimetric', 'theorydriven', 'thempiracy', 'theoreticalempirical', 'theorization', 'thermoacoustic', 'thesispreserving', 'themtrade', 'therapist', 'thermosetting', 'thematic', 'theoriesthese', 'thereafter', 'thematically', 'therewith', 'thermal', 'themselvesplanegazing', 'theorizing', 'therefore', 'theoriesthe', 'thermochemical', 'theorythis', 'thesis', 'thermalhealing', 'theoryin', 'thesethe', 'theorybased', 'theoryidentity', 'themcase', 'theoremit', 'theorythroughout', 'thermodynamically', 'thermocouple', 'theatre', 'theorythe', 'thermodynamics', 'theorytwo', 'theory', 'theoretically', 'theoryinformed', 'theorydespite', 'thermoset', 'therewellmanaged', 'therapy', 'theoryconsidering', 'theoryfindings', 'theology', 'theorisation', 'themselvestimely', 'thermophysical', 'thermomechanical', 'themthe', 'thesisaviation', 'thermostable', 'thereby', 'themethis', 'thermistor', 'themlimitations', 'theoreticallyadsorption', 'thermogram', 'theorize', 'thermodynamicsthis', 'theatricalization', 'theater', 'theoryavailable', 'theoriesthis', 'theoriessome', 'theoreticalpresentation'}\n",
      "2017 {'theoryfirst', 'theories', 'themdata', 'thermalmechanical', 'therapeutic', 'themesthe', 'thermoresilient', 'theorist', 'themoccurrences', 'thermoelastic', 'thembased', 'themwith', 'themesa', 'theil', 'theft', 'thermalspectrum', 'thermoplastic', 'themfour', 'theoreticalthe', 'thermosets', 'thermodynamic', 'theoryinformation', 'themselvesin', 'theorya', 'theme', 'therein', 'theorypractice', 'theirand', 'thermophysiological', 'theoretic', 'theoryconstructed', 'theorycompanies', 'thesein', 'thermography', 'themincreasingly', 'themethe', 'theoretischen', 'thesaurus', 'thermographic', 'themesto', 'theorising', 'thermally', 'theorynewspapers', 'thermoelectric', 'theoryresourcebased', 'themto', 'themesthis', 'therritory', 'themis', 'theoryby', 'thereinaggregate', 'thereof', 'therapyenhancement', 'themthis', 'themeresearch', 'theorem', 'theocratic', 'thermohydraulic', 'theorybuilding', 'thermogravimetric', 'thermoneutral', 'theorydriven', 'thempiracy', 'theorization', 'theoreticalempirical', 'thermoacoustic', 'thesispreserving', 'themtrade', 'therapist', 'thematize', 'thermosetting', 'thematic', 'theoriesthese', 'thereafter', 'thematically', 'therewith', 'thermal', 'themselvesplanegazing', 'theorizing', 'therefore', 'theoriesthe', 'thermooxidative', 'thermochemical', 'theorythis', 'thesis', 'theoryin', 'thesethe', 'theorybased', 'theoryidentity', 'themcase', 'theoremit', 'theorythroughout', 'thermomechanically', 'thermodynamically', 'thermocouple', 'theatre', 'theorythe', 'thermodynamics', 'theorytwo', 'theory', 'theoretically', 'theoryinformed', 'theorydespite', 'thermoset', 'therewellmanaged', 'therapy', 'theoryconsidering', 'theoryfindings', 'theredimensional', 'theology', 'theorisation', 'themselvestimely', 'thermophysical', 'thermomechanical', 'thesisaviation', 'themthe', 'thermostable', 'thereby', 'themethis', 'theairlines', 'themesfoci', 'themlimitations', 'thermogram', 'theoreticallyadsorption', 'theta', 'theorize', 'thermodynamicsthis', 'theatricalization', 'theoryavailable', 'theater', 'theoriesthis', 'theoryanalytic', 'theoriessome', 'theoreticalpresentation'}\n",
      "2018 {'theoryfirst', 'theories', 'themdata', 'thermalmechanical', 'therapeutic', 'themesthe', 'theorist', 'thermoresilient', 'themoccurrences', 'thembased', 'themwith', 'themesa', 'theil', 'theft', 'thermoplastic', 'themfour', 'theses', 'theoreticalthe', 'thermosetmatrix', 'thermodynamic', 'theoryinformation', 'themselvesin', 'theorya', 'theme', 'therein', 'theo', 'theorypractice', 'theoreticalmethodological', 'thermophysiological', 'theoretic', 'theoryconstructed', 'theorycompanies', 'thesein', 'thermography', 'themincreasingly', 'themethe', 'theoretischen', 'thesaurus', 'thermographic', 'themesto', 'thermally', 'themwe', 'theorynewspapers', 'thermoelectric', 'theoryresourcebased', 'themto', 'themesthis', 'therritory', 'theoryby', 'thermoelasticity', 'thereinaggregate', 'thereof', 'thesurface', 'therapyenhancement', 'themthis', 'theoreticspatial', 'theindustrial', 'themeresearch', 'theorem', 'theorybuilding', 'theological', 'theorydriven', 'thempiracy', 'theorization', 'theoreticalempirical', 'thermoacoustic', 'thesispreserving', 'themtrade', 'therapist', 'thermosetting', 'thematic', 'theoriesthese', 'thematically', 'thereafter', 'therewith', 'thermal', 'themselvesplanegazing', 'theorizing', 'therefore', 'theoriesthe', 'thermochemical', 'theorythis', 'thesis', 'theoryin', 'thesethe', 'theorybased', 'theoryidentity', 'themcase', 'theoremit', 'theorythroughout', 'themed', 'thermodynamically', 'theodore', 'thermocouple', 'themesresults', 'theatre', 'theorythe', 'therebut', 'thermodynamics', 'theorytwo', 'theory', 'theoretically', 'theoryinformed', 'theorydespite', 'thermoset', 'therewellmanaged', 'therapy', 'theoryconsidering', 'theoryfindings', 'theredimensional', 'theology', 'theorisation', 'themselvestimely', 'thermophysical', 'thermomechanical', 'themthe', 'thesisaviation', 'thermostable', 'thereby', 'themethis', 'thermoecological', 'themlimitations', 'theoreticallyadsorption', 'thermogram', 'theta', 'theorize', 'thermodynamicsthis', 'theatricalization', 'theoryavailable', 'theater', 'theoriesthis', 'theoriessome', 'theoreticalpresentation'}\n",
      "2019 {'theoryfirst', 'theories', 'themdata', 'thermalmechanical', 'therapeutic', 'themesthe', 'theorist', 'thermoresilient', 'themoccurrences', 'thermoelastic', 'thembased', 'themwith', 'themesa', 'thermoplasticbased', 'theil', 'theft', 'therethen', 'thermoplastic', 'themfour', 'theoreticalthe', 'thermodynamic', 'theoryinformation', 'themselvesin', 'theorya', 'theme', 'therein', 'thermalelectrical', 'theorypractice', 'theoreticalmethodological', 'thermophysiological', 'theorise', 'theoretic', 'theoryconstructed', 'theorycompanies', 'thesein', 'thermography', 'themincreasingly', 'themethe', 'theoretischen', 'thesaurus', 'thermographic', 'themesto', 'thermometry', 'thermally', 'theorynewspapers', 'thermoelectric', 'theoryresourcebased', 'themto', 'themesthis', 'therritory', 'theoryby', 'thereinaggregate', 'thereof', 'therapyenhancement', 'thermotolerance', 'themthis', 'themeresearch', 'theorem', 'theranostic', 'thermohydraulic', 'theorybuilding', 'theorydriven', 'theoreticalempirical', 'thempiracy', 'theorization', 'thermoacoustic', 'thermostat', 'thesispreserving', 'themtrade', 'therapist', 'thermosetting', 'thematic', 'themesresultsfour', 'theoriesthese', 'thematically', 'thereafter', 'therewith', 'therenow', 'thermal', 'themselvesplanegazing', 'theorizing', 'therefore', 'theoriesthe', 'thermofluidic', 'thermochemical', 'theorythis', 'thesis', 'theoryin', 'thesethe', 'theorybased', 'theoryidentity', 'themcase', 'theoremit', 'theorythroughout', 'thermodynamically', 'thermocouple', 'thermogravimetry', 'theatre', 'theorythe', 'thermodynamics', 'theorytwo', 'theory', 'theoretically', 'theoryinformed', 'theorydespite', 'thermoset', 'therewellmanaged', 'therapy', 'theoryconsidering', 'theoryfindings', 'theredimensional', 'theology', 'theorisation', 'themselvestimely', 'thermophysical', 'thermomechanical', 'themthe', 'thesisaviation', 'thermostable', 'thermaloxidative', 'thereby', 'themethis', 'themlimitations', 'thermogram', 'theoreticallyadsorption', 'theorize', 'thermodynamicsthis', 'theatricalization', 'theoriesthis', 'theoryavailable', 'theater', 'theoriessome', 'theoryanalytic', 'thes', 'theoreticalpresentation'}\n"
     ]
    },
    {
     "name": "stdout",
     "output_type": "stream",
     "text": [
      "2020 {'theoryfirst', 'theories', 'themdata', 'theradiation', 'thermalmechanical', 'therapeutic', 'themesthe', 'theorist', 'thermoresilient', 'themoccurrences', 'thermoelastic', 'thembased', 'themwith', 'themesa', 'theorie', 'theil', 'theft', 'thermoplastic', 'themfour', 'theoreticalthe', 'thermodynamic', 'theoryinformation', 'themselvesin', 'theorya', 'theme', 'therein', 'theorypractice', 'theoreticalmethodological', 'thermophysiological', 'theoretic', 'theoryconstructed', 'theorycompanies', 'thesein', 'thermography', 'themincreasingly', 'themethe', 'thesaurus', 'thermographic', 'themesto', 'thermally', 'theorynewspapers', 'thermoelectric', 'theoryresourcebased', 'themto', 'thermoeconomic', 'themesthis', 'therritory', 'theoryby', 'thereinaggregate', 'thereof', 'therapyenhancement', 'themthis', 'themeresearch', 'theorem', 'thermohydraulic', 'theorybuilding', 'thermogravimetric', 'theorydriven', 'thempiracy', 'theorization', 'theoreticalempirical', 'thermoacoustic', 'thesispreserving', 'themtrade', 'therapist', 'thermosetting', 'thematic', 'theoriesthese', 'thereafter', 'thematically', 'therewith', 'thermal', 'themselvesplanegazing', 'theorizing', 'therefore', 'theoriesthe', 'thermosetthermoplastic', 'thermochemical', 'theorythis', 'thesis', 'theoryin', 'thesethe', 'theorybased', 'theoryidentity', 'themcase', 'theoremit', 'theorythroughout', 'thermodynamically', 'thermocouple', 'theatre', 'theorythe', 'therebut', 'thermodynamics', 'theorytwo', 'theory', 'theoretically', 'theinvolved', 'theoryinformed', 'theorydespite', 'thermoset', 'therewellmanaged', 'therapy', 'theoryconsidering', 'theoryfindings', 'themebased', 'thermoeconomics', 'theology', 'theorisation', 'themselvestimely', 'thermophysical', 'thermomechanical', 'themthe', 'thesisaviation', 'thermostable', 'thereby', 'themethis', 'themlimitations', 'thermogram', 'theoreticallyadsorption', 'theorize', 'thermodynamicsthis', 'theatricalization', 'theoriesthis', 'theater', 'theoryavailable', 'theoriessome', 'theart', 'theoreticalpresentation'}\n"
     ]
    }
   ],
   "source": [
    "for year in year_list:\n",
    "    file = open('C:/Users/happy/Coding/jupyter/crawler/MROpaper/datav6/'+year+'.csv','r',encoding='utf-8-sig')\n",
    "    reader = csv.reader(file)\n",
    "    \n",
    "    w_list = list()\n",
    "    \n",
    "    for line in reader:\n",
    "        for word in line:\n",
    "            if word.startswith('the'):\n",
    "                w_list.append(word)\n",
    "    \n",
    "    w_set = set(w_list)\n",
    "    \n",
    "    print(year, w_set)\n",
    "    \n",
    "    file.close()"
   ]
  }
 ],
 "metadata": {
  "kernelspec": {
   "display_name": "Python 3",
   "language": "python",
   "name": "python3"
  },
  "language_info": {
   "codemirror_mode": {
    "name": "ipython",
    "version": 3
   },
   "file_extension": ".py",
   "mimetype": "text/x-python",
   "name": "python",
   "nbconvert_exporter": "python",
   "pygments_lexer": "ipython3",
   "version": "3.8.8"
  },
  "toc": {
   "base_numbering": 1,
   "nav_menu": {},
   "number_sections": true,
   "sideBar": true,
   "skip_h1_title": false,
   "title_cell": "Table of Contents",
   "title_sidebar": "Contents",
   "toc_cell": false,
   "toc_position": {},
   "toc_section_display": true,
   "toc_window_display": false
  },
  "varInspector": {
   "cols": {
    "lenName": 16,
    "lenType": 16,
    "lenVar": 40
   },
   "kernels_config": {
    "python": {
     "delete_cmd_postfix": "",
     "delete_cmd_prefix": "del ",
     "library": "var_list.py",
     "varRefreshCmd": "print(var_dic_list())"
    },
    "r": {
     "delete_cmd_postfix": ") ",
     "delete_cmd_prefix": "rm(",
     "library": "var_list.r",
     "varRefreshCmd": "cat(var_dic_list()) "
    }
   },
   "types_to_exclude": [
    "module",
    "function",
    "builtin_function_or_method",
    "instance",
    "_Feature"
   ],
   "window_display": false
  }
 },
 "nbformat": 4,
 "nbformat_minor": 5
}
