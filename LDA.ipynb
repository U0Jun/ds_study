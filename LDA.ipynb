{
 "cells": [
  {
   "cell_type": "code",
   "execution_count": 1,
   "id": "bac65813",
   "metadata": {},
   "outputs": [
    {
     "name": "stderr",
     "output_type": "stream",
     "text": [
      "C:\\Users\\happy\\anaconda3\\lib\\site-packages\\gensim\\similarities\\__init__.py:15: UserWarning: The gensim.similarities.levenshtein submodule is disabled, because the optional Levenshtein package <https://pypi.org/project/python-Levenshtein/> is unavailable. Install Levenhstein (e.g. `pip install python-Levenshtein`) to suppress this warning.\n",
      "  warnings.warn(msg)\n"
     ]
    }
   ],
   "source": [
    "import csv\n",
    "from collections import Counter\n",
    "import pandas as pd\n",
    "from math import log\n",
    "from sklearn.feature_extraction.text import TfidfVectorizer\n",
    "import json\n",
    "import gensim\n",
    "from sklearn.decomposition import LatentDirichletAllocation\n",
    "from gensim import corpora"
   ]
  },
  {
   "cell_type": "code",
   "execution_count": 2,
   "id": "7f0f7351",
   "metadata": {},
   "outputs": [],
   "source": [
    "year_list = ['2011', '2012', '2013','2014','2015','2016','2017','2018','2019','2020']"
   ]
  },
  {
   "cell_type": "code",
   "execution_count": 3,
   "id": "df9033cd",
   "metadata": {
    "code_folding": [
     0
    ]
   },
   "outputs": [
    {
     "ename": "KeyboardInterrupt",
     "evalue": "",
     "output_type": "error",
     "traceback": [
      "\u001b[1;31m---------------------------------------------------------------------------\u001b[0m",
      "\u001b[1;31mKeyboardInterrupt\u001b[0m                         Traceback (most recent call last)",
      "\u001b[1;32m<ipython-input-3-5fd3203f4e06>\u001b[0m in \u001b[0;36m<module>\u001b[1;34m\u001b[0m\n\u001b[0;32m      9\u001b[0m     \u001b[1;32mfor\u001b[0m \u001b[0mline\u001b[0m \u001b[1;32min\u001b[0m \u001b[0mreader\u001b[0m\u001b[1;33m:\u001b[0m\u001b[1;33m\u001b[0m\u001b[1;33m\u001b[0m\u001b[0m\n\u001b[0;32m     10\u001b[0m         \u001b[0mword_list\u001b[0m \u001b[1;33m=\u001b[0m \u001b[0mlist\u001b[0m\u001b[1;33m(\u001b[0m\u001b[1;33m)\u001b[0m\u001b[1;33m\u001b[0m\u001b[1;33m\u001b[0m\u001b[0m\n\u001b[1;32m---> 11\u001b[1;33m         \u001b[0mword_list\u001b[0m \u001b[1;33m=\u001b[0m \u001b[1;33m[\u001b[0m\u001b[0mword\u001b[0m\u001b[1;33m.\u001b[0m\u001b[0mrstrip\u001b[0m\u001b[1;33m(\u001b[0m\u001b[1;34m'\\n'\u001b[0m\u001b[1;33m)\u001b[0m \u001b[1;32mfor\u001b[0m \u001b[0mword\u001b[0m \u001b[1;32min\u001b[0m \u001b[0mline\u001b[0m\u001b[1;33m]\u001b[0m\u001b[1;33m\u001b[0m\u001b[1;33m\u001b[0m\u001b[0m\n\u001b[0m\u001b[0;32m     12\u001b[0m         \u001b[0mtxt\u001b[0m \u001b[1;33m=\u001b[0m \u001b[1;34m' '\u001b[0m\u001b[1;33m.\u001b[0m\u001b[0mjoin\u001b[0m\u001b[1;33m(\u001b[0m\u001b[0mword_list\u001b[0m\u001b[1;33m)\u001b[0m\u001b[1;33m\u001b[0m\u001b[1;33m\u001b[0m\u001b[0m\n\u001b[0;32m     13\u001b[0m         \u001b[0mdoc_list\u001b[0m\u001b[1;33m.\u001b[0m\u001b[0mappend\u001b[0m\u001b[1;33m(\u001b[0m\u001b[0mtxt\u001b[0m\u001b[1;33m)\u001b[0m\u001b[1;33m\u001b[0m\u001b[1;33m\u001b[0m\u001b[0m\n",
      "\u001b[1;32m<ipython-input-3-5fd3203f4e06>\u001b[0m in \u001b[0;36m<listcomp>\u001b[1;34m(.0)\u001b[0m\n\u001b[0;32m      9\u001b[0m     \u001b[1;32mfor\u001b[0m \u001b[0mline\u001b[0m \u001b[1;32min\u001b[0m \u001b[0mreader\u001b[0m\u001b[1;33m:\u001b[0m\u001b[1;33m\u001b[0m\u001b[1;33m\u001b[0m\u001b[0m\n\u001b[0;32m     10\u001b[0m         \u001b[0mword_list\u001b[0m \u001b[1;33m=\u001b[0m \u001b[0mlist\u001b[0m\u001b[1;33m(\u001b[0m\u001b[1;33m)\u001b[0m\u001b[1;33m\u001b[0m\u001b[1;33m\u001b[0m\u001b[0m\n\u001b[1;32m---> 11\u001b[1;33m         \u001b[0mword_list\u001b[0m \u001b[1;33m=\u001b[0m \u001b[1;33m[\u001b[0m\u001b[0mword\u001b[0m\u001b[1;33m.\u001b[0m\u001b[0mrstrip\u001b[0m\u001b[1;33m(\u001b[0m\u001b[1;34m'\\n'\u001b[0m\u001b[1;33m)\u001b[0m \u001b[1;32mfor\u001b[0m \u001b[0mword\u001b[0m \u001b[1;32min\u001b[0m \u001b[0mline\u001b[0m\u001b[1;33m]\u001b[0m\u001b[1;33m\u001b[0m\u001b[1;33m\u001b[0m\u001b[0m\n\u001b[0m\u001b[0;32m     12\u001b[0m         \u001b[0mtxt\u001b[0m \u001b[1;33m=\u001b[0m \u001b[1;34m' '\u001b[0m\u001b[1;33m.\u001b[0m\u001b[0mjoin\u001b[0m\u001b[1;33m(\u001b[0m\u001b[0mword_list\u001b[0m\u001b[1;33m)\u001b[0m\u001b[1;33m\u001b[0m\u001b[1;33m\u001b[0m\u001b[0m\n\u001b[0;32m     13\u001b[0m         \u001b[0mdoc_list\u001b[0m\u001b[1;33m.\u001b[0m\u001b[0mappend\u001b[0m\u001b[1;33m(\u001b[0m\u001b[0mtxt\u001b[0m\u001b[1;33m)\u001b[0m\u001b[1;33m\u001b[0m\u001b[1;33m\u001b[0m\u001b[0m\n",
      "\u001b[1;31mKeyboardInterrupt\u001b[0m: "
     ]
    }
   ],
   "source": [
    "#tf-idf sklearn\n",
    "for year in year_list:\n",
    "    doc_list = list()\n",
    "    txt = ''\n",
    "\n",
    "    file = open('C:/Users/happy/Coding/jupyter/crawler/MROpaper/datav2/'+year+'.csv','r',encoding='utf-8-sig')\n",
    "    reader = csv.reader(file)\n",
    "\n",
    "    for line in reader:\n",
    "        word_list = list()\n",
    "        word_list = [word.rstrip('\\n') for word in line]\n",
    "        txt = ' '.join(word_list)    \n",
    "        doc_list.append(txt)\n",
    "    \n",
    "    file.close()\n",
    "\n",
    "    vectorizer  = TfidfVectorizer(min_df = 2, analyzer = 'word')\n",
    "\n",
    "    tfidfv = vectorizer.fit(doc_list)\n",
    "    tfidfa = tfidfv.transform(doc_list).toarray()\n",
    "    \n",
    "    df = pd.DataFrame(tfidfa, columns = sorted(tfidfv.vocabulary_))\n",
    "    \n",
    "    lda_model = LatentDirichletAllocation(n_components=10,learning_method='online',random_state=777,max_iter=30)\n",
    "\n",
    "    lda_top = lda_model.fit_transform(tfidfa)\n",
    "\n",
    "    terms = vectorizer.get_feature_names()\n",
    "\n",
    "    def get_topics(components, feature_names, n=5):\n",
    "        for idx, topic in enumerate(components):\n",
    "            tmp_list = list()\n",
    "            tmp_list.append(\"Topic \"+str(idx+1)+': ')\n",
    "            tmp_list += ([(feature_names[i], topic[i].round(2)) for i in topic.argsort()[:-n - 1:-1]])\n",
    "            print(\"Topic %d:\" % (idx+1), [(feature_names[i], topic[i].round(2)) for i in topic.argsort()[:-n - 1:-1]])\n",
    "            with open('C:/Users/happy/Coding/jupyter/crawler/MROpaper/datav2/LDA/'+year+'.csv', 'a+', newline='', encoding='utf-8-sig') as f:\n",
    "                writer = csv.writer(f)\n",
    "                writer.writerow(tmp_list)\n",
    "\n",
    "    get_topics(lda_model.components_,terms)"
   ]
  },
  {
   "cell_type": "code",
   "execution_count": 15,
   "id": "3c4edcf0",
   "metadata": {
    "code_folding": [
     0
    ]
   },
   "outputs": [],
   "source": [
    "#tf-idf gensim\n",
    "for year in year_list:\n",
    "    doc_list = list()\n",
    "    file = open('C:/Users/happy/Coding/jupyter/crawler/MROpaper/datav3/'+year+'.csv','r',encoding='utf-8-sig')\n",
    "    reader = csv.reader(file)\n",
    "\n",
    "    for line in reader:\n",
    "        word_list = list()\n",
    "        word_list = [word.rstrip('\\n') for word in line if word != \"\"]   \n",
    "        doc_list.append(word_list)\n",
    "    \n",
    "    file.close()\n",
    "\n",
    "    dictionary = corpora.Dictionary(doc_list)\n",
    "    corpus = [dictionary.doc2bow(text) for text in doc_list]\n",
    "\n",
    "    NUM_TOPICS = 20 # 20개의 토픽, k=20\n",
    "    ldamodel = gensim.models.ldamodel.LdaModel(corpus, num_topics = NUM_TOPICS, id2word=dictionary, passes=20, iterations = 100)\n",
    "    topics = ldamodel.print_topics()\n",
    "    \n",
    "    \n",
    "    \n",
    "    with open('C:/Users/happy/Coding/jupyter/crawler/MROpaper/datav3/LDA/gen_'+year+'.csv', 'a+', newline='', encoding='utf-8-sig') as f:\n",
    "        writer = csv.writer(f)\n",
    "        for topic in topics:\n",
    "            writer.writerow(topic)"
   ]
  },
  {
   "cell_type": "code",
   "execution_count": 3,
   "id": "489e64c2",
   "metadata": {},
   "outputs": [],
   "source": [
    "#LDA gensim\n",
    "for year in year_list:\n",
    "    doc_list = list()\n",
    "    file = open('C:/Users/happy/Coding/jupyter/crawler/MROpaper/datav7/'+year+'.csv','r',encoding='utf-8-sig')\n",
    "    reader = csv.reader(file)\n",
    "\n",
    "    for line in reader:\n",
    "        word_list = list()\n",
    "        word_list = [word.rstrip('\\n') for word in line if word != \"\"]   \n",
    "        doc_list.append(word_list)\n",
    "    \n",
    "    file.close()\n",
    "\n",
    "    dictionary = corpora.Dictionary(doc_list)\n",
    "    dictionary.filter_extremes(no_below=10, no_above=0.07)\n",
    "    corpus = [dictionary.doc2bow(text) for text in doc_list]\n",
    "\n",
    "    NUM_TOPICS = 30 # 20개의 토픽, k=20\n",
    "    ldamodel = gensim.models.ldamodel.LdaModel(corpus, num_topics = NUM_TOPICS, id2word=dictionary, passes=30, iterations = 100)\n",
    "    topics = ldamodel.print_topics(num_topics = NUM_TOPICS, num_words = 20)\n",
    "    \n",
    "    tmp1 = list()\n",
    "    topics = list(topics)\n",
    "    \n",
    "    for t in topics:\n",
    "        index_t = topics.index(t)\n",
    "        tmp2 = t[1].split(' + ')\n",
    "        for w in tmp2:\n",
    "            tmp3 = w.split('*')\n",
    "            tmp3[1] = tmp3[1].strip('\"')\n",
    "            if index_t == 0: \n",
    "                tmp1.append(tmp3)\n",
    "            else:\n",
    "                try:\n",
    "                    tmp1[tmp2.index(w)] += tmp3\n",
    "                except:\n",
    "                    print(tmp2.index(w), len(tmp1), t[0], type(t[0]))\n",
    "\n",
    "    with open('C:/Users/happy/Coding/jupyter/crawler/MROpaper/datav7/LDA/gen_'+year+'.csv', 'a+', newline = '', encoding='utf-8-sig') as ldafile:\n",
    "        writer = csv.writer(ldafile)\n",
    "        writer.writerows(tmp1)"
   ]
  },
  {
   "cell_type": "code",
   "execution_count": null,
   "id": "4769b220",
   "metadata": {
    "code_folding": [
     0
    ]
   },
   "outputs": [],
   "source": [
    "#tf-idf sklearn\n",
    "doc_list = list()\n",
    "txt = ''\n",
    "\n",
    "file = open('C:/Users/happy/Coding/jupyter/crawler/MROpaper/datav2/2011.csv','r',encoding='utf-8-sig')\n",
    "reader = csv.reader(file)\n",
    "\n",
    "for line in reader:\n",
    "    word_list = list()\n",
    "    word_list = [word.rstrip('\\n') for word in line]\n",
    "    txt = ' '.join(word_list)    \n",
    "    doc_list.append(txt)\n",
    "\n",
    "file.close()\n",
    "\n",
    "vectorizer  = TfidfVectorizer(min_df = 2, analyzer = 'word')\n",
    "\n",
    "tfidfv = vectorizer.fit(doc_list)\n",
    "tfidfa = tfidfv.transform(doc_list).toarray()\n",
    "\n",
    "df = pd.DataFrame(tfidfa, columns = sorted(tfidfv.vocabulary_))\n",
    "\n",
    "lda_model = LatentDirichletAllocation(n_components=10,learning_method='online',random_state=777,max_iter=30)\n",
    "\n",
    "lda_top = lda_model.fit_transform(tfidfa)\n",
    "\n",
    "terms = vectorizer.get_feature_names()\n",
    "\n",
    "def get_topics(components, feature_names, n=5):\n",
    "    for idx, topic in enumerate(components):\n",
    "        print(\"Topic %d:\" % (idx+1), [(feature_names[i], topic[i].round(2)) for i in topic.argsort()[:-n - 1:-1]])\n",
    "\n",
    "get_topics(lda_model.components_,terms)"
   ]
  },
  {
   "cell_type": "code",
   "execution_count": 47,
   "id": "56d72257",
   "metadata": {
    "code_folding": [
     0
    ]
   },
   "outputs": [],
   "source": [
    "#형식 맞추기\n",
    "for year in year_list:\n",
    "    t_list = list()\n",
    "    with open('C:/Users/happy/Coding/jupyter/crawler/MROpaper/datav3/LDA/gen_'+year+'.csv', 'r', encoding='utf-8-sig') as ldafile:\n",
    "        reader = csv.reader(ldafile)\n",
    "        for line in reader:\n",
    "            topic = [word.rstrip('\\n') for word in line if word != '']\n",
    "            t_list.append(topic)\n",
    "\n",
    "    tmp1 = list()\n",
    "\n",
    "    for t in t_list:\n",
    "        tmp2 = t[1].split(' + ')\n",
    "        for w in tmp2:\n",
    "            tmp3 = w.split('*')\n",
    "            tmp3[1] = tmp3[1].strip('\"')\n",
    "            if t[0] == '0': \n",
    "                tmp1.append(tmp3)\n",
    "            else:\n",
    "                tmp1[tmp2.index(w)] += tmp3\n",
    "\n",
    "    with open('C:/Users/happy/Coding/jupyter/crawler/MROpaper/datav3/LDA/gen_'+year+'.csv', 'a+', newline = '', encoding='utf-8-sig') as ldafile:\n",
    "        writer = csv.writer(ldafile)\n",
    "        writer.writerows(tmp1)"
   ]
  },
  {
   "cell_type": "code",
   "execution_count": 45,
   "id": "d201c28b",
   "metadata": {
    "code_folding": [
     0
    ]
   },
   "outputs": [],
   "source": [
    "#\n",
    "t_list = list()\n",
    "with open('C:/Users/happy/Coding/jupyter/crawler/MROpaper/datav3/LDA/gen_2011.csv', 'r', encoding='utf-8-sig') as ldafile:\n",
    "    reader = csv.reader(ldafile)\n",
    "    for line in reader:\n",
    "        topic = [word.rstrip('\\n') for word in line if word != '']\n",
    "        t_list.append(topic)\n",
    "\n",
    "tmp1 = list()\n",
    "\n",
    "for t in t_list:\n",
    "    tmp2 = t[1].split(' + ')\n",
    "    for w in tmp2:\n",
    "        tmp3 = w.split('*')\n",
    "        tmp3[1] = tmp3[1].strip('\"')\n",
    "        if t[0] == '0': \n",
    "            tmp1.append(tmp3)\n",
    "        else:\n",
    "            tmp1[tmp2.index(w)] += tmp3\n",
    "            \n",
    "with open('C:/Users/happy/Coding/jupyter/crawler/MROpaper/datav3/LDA/gen_2011v2.csv', 'a+', newline = '', encoding='utf-8-sig') as ldafile:\n",
    "    writer = csv.writer(ldafile)\n",
    "    writer.writerows(tmp1)"
   ]
  }
 ],
 "metadata": {
  "kernelspec": {
   "display_name": "Python 3",
   "language": "python",
   "name": "python3"
  },
  "language_info": {
   "codemirror_mode": {
    "name": "ipython",
    "version": 3
   },
   "file_extension": ".py",
   "mimetype": "text/x-python",
   "name": "python",
   "nbconvert_exporter": "python",
   "pygments_lexer": "ipython3",
   "version": "3.8.8"
  },
  "toc": {
   "base_numbering": 1,
   "nav_menu": {},
   "number_sections": true,
   "sideBar": true,
   "skip_h1_title": false,
   "title_cell": "Table of Contents",
   "title_sidebar": "Contents",
   "toc_cell": false,
   "toc_position": {},
   "toc_section_display": true,
   "toc_window_display": false
  },
  "varInspector": {
   "cols": {
    "lenName": 16,
    "lenType": 16,
    "lenVar": 40
   },
   "kernels_config": {
    "python": {
     "delete_cmd_postfix": "",
     "delete_cmd_prefix": "del ",
     "library": "var_list.py",
     "varRefreshCmd": "print(var_dic_list())"
    },
    "r": {
     "delete_cmd_postfix": ") ",
     "delete_cmd_prefix": "rm(",
     "library": "var_list.r",
     "varRefreshCmd": "cat(var_dic_list()) "
    }
   },
   "types_to_exclude": [
    "module",
    "function",
    "builtin_function_or_method",
    "instance",
    "_Feature"
   ],
   "window_display": false
  }
 },
 "nbformat": 4,
 "nbformat_minor": 5
}
