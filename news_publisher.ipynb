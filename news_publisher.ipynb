{
 "cells": [
  {
   "cell_type": "code",
   "execution_count": 9,
   "id": "03eb5d6e",
   "metadata": {},
   "outputs": [],
   "source": [
    "from selenium import webdriver\n",
    "from selenium.webdriver.chrome.options import Options\n",
    "import subprocess\n",
    "import shutil\n",
    "import chromedriver_autoinstaller\n",
    "from fake_useragent import UserAgent\n",
    "import requests\n",
    "from selenium.webdriver.common.keys import Keys\n",
    "from time import sleep\n",
    "from selenium.webdriver.common.by import By\n",
    "import pandas as pd\n",
    "import csv\n",
    "import re\n",
    "from collections import Counter\n",
    "import json\n",
    "from random import randint\n",
    "import time\n",
    "import subprocess\n",
    "import os\n",
    "import socket\n",
    "from stem import Signal\n",
    "from stem.control import Controller"
   ]
  },
  {
   "cell_type": "code",
   "execution_count": 10,
   "id": "4db5372e",
   "metadata": {},
   "outputs": [],
   "source": [
    "# 3 url 조합용\n",
    "url_1 = 'https://www.google.com/search?q=%22'\n",
    "url_2 = '%22+and+%22'\n",
    "url_3 = '%22+and+%22'\n",
    "url_4 = '%22&biw=1920&bih=916&source=lnt&tbs=cdr%3A1%2Ccd_min%3A1%2F1%2F2011%2Ccd_max%3A12%2F31%2F2020&tbm=nws'"
   ]
  },
  {
   "cell_type": "code",
   "execution_count": 11,
   "id": "9a11cb95",
   "metadata": {
    "code_folding": [
     0
    ]
   },
   "outputs": [
    {
     "name": "stderr",
     "output_type": "stream",
     "text": [
      "<ipython-input-11-97a4cc108257>:5: DeprecationWarning: executable_path has been deprecated, please pass in a Service object\n",
      "  driver = webdriver.Chrome(f'./{chrome_ver}/chromedriver.exe')\n"
     ]
    }
   ],
   "source": [
    "# 크롬 드라이버 새로 깔기\n",
    "chrome_ver = chromedriver_autoinstaller.get_chrome_version().split('.')[0]  #크롬드라이버 버전 확인\n",
    "\n",
    "try:\n",
    "    driver = webdriver.Chrome(f'./{chrome_ver}/chromedriver.exe')   \n",
    "except:\n",
    "    chromedriver_autoinstaller.install(True)\n",
    "    driver = webdriver.Chrome(f'./{chrome_ver}/chromedriver.exe')\n",
    "\n",
    "driver.implicitly_wait(10)"
   ]
  },
  {
   "cell_type": "code",
   "execution_count": 71,
   "id": "4a8468b8",
   "metadata": {
    "code_folding": [
     0
    ]
   },
   "outputs": [],
   "source": [
    "# 2\n",
    "driver = webdriver.Chrome('C:/Users/happy/chromedriver/chromedriver')\n",
    "\n",
    "## 암묵적으로 웹 자원 로드를 위해 3초까지 기다려 준다.\n",
    "driver.implicitly_wait(3)"
   ]
  },
  {
   "cell_type": "code",
   "execution_count": 12,
   "id": "841084c9",
   "metadata": {},
   "outputs": [
    {
     "name": "stderr",
     "output_type": "stream",
     "text": [
      "<ipython-input-12-b3be9e0d3745>:22: DeprecationWarning: executable_path has been deprecated, please pass in a Service object\n",
      "  driver = webdriver.Chrome(chrome_options=options,executable_path='C:/Users/happy/chromedriver/chromedriver')\n",
      "<ipython-input-12-b3be9e0d3745>:22: DeprecationWarning: use options instead of chrome_options\n",
      "  driver = webdriver.Chrome(chrome_options=options,executable_path='C:/Users/happy/chromedriver/chromedriver')\n"
     ]
    }
   ],
   "source": [
    "try:\n",
    "    shutil.rmtree(r\"c:\\chrometemp\")  #쿠키 / 캐쉬파일 삭제\n",
    "except FileNotFoundError:\n",
    "    pass\n",
    "\n",
    "# options.add_argument('headless')\n",
    "\n",
    "try:\n",
    "    \n",
    "    tor = subprocess.run(\"C:/Users/happy/Desktop/내거/Tor Browser/Browser/firefox.exe\", shell = True)\n",
    "    time.sleep(15)\n",
    "    \n",
    "    options = Options()\n",
    "    #options.add_experimental_option(\"debuggerAddress\", \"127.0.0.1:9222\")\n",
    "    \n",
    "    options.add_argument(\"user-agent=Mozilla/5.0 (Macintosh; Intel Mac OS X 10_12_6) AppleWebKit/537.36 (KHTML, like Gecko) Chrome/61.0.3163.100 Safari/537.36\")\n",
    "    options.add_argument(\"lang=ko_KR\") # 한국어!\n",
    "    options.add_argument(\"--proxy-server=socks5://127.0.0.1:9150\")\n",
    "    \n",
    "    chrome_ver = chromedriver_autoinstaller.get_chrome_version().split('.')[0]\n",
    "    \n",
    "    driver = webdriver.Chrome(chrome_options=options,executable_path='C:/Users/happy/chromedriver/chromedriver')\n",
    "    driver.get('about:blank')\n",
    "    driver.execute_script(\"Object.defineProperty(navigator, 'plugins', {get: function() {return[1, 2, 3, 4, 5];},});\")\n",
    "    driver.execute_script(\"Object.defineProperty(navigator, 'languages', {get: function() {return ['ko-KR', 'ko']}})\")\n",
    "    \n",
    "except:\n",
    "    chromedriver_autoinstaller.install(True)\n",
    "    driver = webdriver.Chrome(f'./{chrome_ver}/chromedriver.exe', options=options)\n",
    "driver.implicitly_wait(10)"
   ]
  },
  {
   "cell_type": "code",
   "execution_count": 17,
   "id": "af3aebbb",
   "metadata": {},
   "outputs": [
    {
     "name": "stdout",
     "output_type": "stream",
     "text": [
      "5102 5102\n"
     ]
    }
   ],
   "source": [
    "df_url = pd.read_csv(\"C:/Users/happy/Coding/jupyter/crawler/MROpaper/scrappedlist/newslink.csv\",names=['k1','k2','k3','url'], encoding = 'utf-8')\n",
    "df_pub = pd.read_csv(\"C:/Users/happy/Coding/jupyter/crawler/MROpaper/scrappedlist/publist.csv\",names=['k1','k2','k3','pub'], encoding = 'utf-8')\n",
    "print(len((df_url['url']).dropna()),len((df_pub['pub']).dropna()))"
   ]
  },
  {
   "cell_type": "code",
   "execution_count": 18,
   "id": "3cddf1a8",
   "metadata": {
    "scrolled": true
   },
   "outputs": [],
   "source": [
    "news_urllist = list()\n",
    "publisher_list = list()\n",
    "publisher_cnt = dict()\n",
    "\n",
    "df = pd.read_csv(\"C:/Users/happy/Coding/jupyter/crawler/MROpaper/scrappedlist/newslink.csv\",names=['k1','k2','k3','url'], encoding = 'utf-8')\n",
    "news_urllist = ((df['url']).dropna()).values.tolist()\n",
    "\n",
    "kw_com = (df.iloc[:,0:3].dropna())\n",
    "kw_com_list = list()\n",
    "\n",
    "for row in kw_com.iterrows():\n",
    "    kw_com_list.append([row[1][0], row[1][1], row[1][2]])\n",
    "    \n",
    "last_kw = kw_com_list[-1]\n",
    "\n",
    "pub_file = open(\"C:/Users/happy/Coding/jupyter/crawler/MROpaper/scrappedlist/publist.csv\", 'a+', newline = '', encoding='utf-8-sig')\n",
    "pub_wr = csv.writer(pub_file)\n",
    "url_file = open(\"C:/Users/happy/Coding/jupyter/crawler/MROpaper/scrappedlist/newslink.csv\", 'a+', newline = '', encoding='utf-8-sig')\n",
    "url_wr = csv.writer(url_file)"
   ]
  },
  {
   "cell_type": "code",
   "execution_count": 19,
   "id": "c2b2f1f8",
   "metadata": {
    "scrolled": true
   },
   "outputs": [
    {
     "name": "stdout",
     "output_type": "stream",
     "text": [
      "5102 ['aircraft', 'maintenance', 'provider']\n"
     ]
    }
   ],
   "source": [
    "len(news_urllist)\n",
    "print(len(news_urllist), last_kw)"
   ]
  },
  {
   "cell_type": "code",
   "execution_count": 20,
   "id": "e2072e83",
   "metadata": {},
   "outputs": [],
   "source": [
    "keyword_avi = ['aircraft', 'aviation', 'airline', 'aerospace']\n",
    "keyword_main = [ 'repair', 'overhaul','MRO', 'maintain']\n",
    "keyword_add = ['performance', 'technology', 'operation', 'quality', 'structure', 'tool', 'type', 'technique', 'requirement', 'program', 'operational', 'function',\n",
    "               'equipment', 'improvement', 'task', 'manufacturing', 'capability', 'damage', 'technical', 'assessment', 'engineering', 'engine', 'safety', 'composite',\n",
    "               'manufacture', 'procedure', 'investment', 'infrastructure', 'facility', 'sustainable', 'component', 'provider']\n",
    "\n",
    "# 'aviation', 'airline', 'aerospace'\n",
    "\n",
    "#  ''maintenance',\n",
    "               \n",
    "# 'performance', 'technology', 'operation', 'quality', 'structure', 'tool', 'type', 'technique', 'requirement', 'program', 'operational', 'function',\n",
    "# 'equipment', 'improvement', 'task', 'manufacturing', 'capability', 'damage', 'technical', 'assessment', 'engineering', 'engine', 'safety', 'composite',\n",
    "# 'manufacture', 'procedure', 'investment', 'infrastructure', 'facility', 'sustainable', 'component' , 'provider'"
   ]
  },
  {
   "cell_type": "code",
   "execution_count": 21,
   "id": "6d08c60f",
   "metadata": {
    "code_folding": []
   },
   "outputs": [
    {
     "name": "stderr",
     "output_type": "stream",
     "text": [
      "<ipython-input-21-aec0d1c75ddc>:32: DeprecationWarning: find_elements_by_class_name is deprecated. Please use find_elements(by=By.CLASS_NAME, value=name) instead\n",
      "  tmp_list = driver.find_elements_by_class_name(\"ftSUBd\")\n",
      "<ipython-input-21-aec0d1c75ddc>:47: DeprecationWarning: find_element_by_link_text is deprecated. Please use find_element(by=By.LINK_TEXT, value=link_text) instead\n",
      "  next_page = driver.find_element_by_link_text(\"다음\")\n"
     ]
    },
    {
     "ename": "WebDriverException",
     "evalue": "Message: chrome not reachable\n  (Session info: chrome=99.0.4844.82)\nStacktrace:\nBacktrace:\n\tOrdinal0 [0x007169A3+2582947]\n\tOrdinal0 [0x006AA6D1+2139857]\n\tOrdinal0 [0x005A3960+1063264]\n\tOrdinal0 [0x00598092+1015954]\n\tOrdinal0 [0x005988C8+1018056]\n\tOrdinal0 [0x0059A102+1024258]\n\tOrdinal0 [0x00593DE9+998889]\n\tOrdinal0 [0x005A4DD0+1068496]\n\tOrdinal0 [0x005F7B12+1407762]\n\tOrdinal0 [0x005E8366+1344358]\n\tOrdinal0 [0x005C5176+1200502]\n\tOrdinal0 [0x005C6066+1204326]\n\tGetHandleVerifier [0x008BBE02+1675858]\n\tGetHandleVerifier [0x0097036C+2414524]\n\tGetHandleVerifier [0x007ABB01+560977]\n\tGetHandleVerifier [0x007AA8D3+556323]\n\tOrdinal0 [0x006B020E+2163214]\n\tOrdinal0 [0x006B5078+2183288]\n\tOrdinal0 [0x006B51C0+2183616]\n\tOrdinal0 [0x006BEE1C+2223644]\n\tBaseThreadInitThunk [0x75C46739+25]\n\tRtlGetFullPathName_UEx [0x776E8E7F+1215]\n\tRtlGetFullPathName_UEx [0x776E8E4D+1165]\n",
     "output_type": "error",
     "traceback": [
      "\u001b[1;31m---------------------------------------------------------------------------\u001b[0m",
      "\u001b[1;31mWebDriverException\u001b[0m                        Traceback (most recent call last)",
      "\u001b[1;32m<ipython-input-21-aec0d1c75ddc>\u001b[0m in \u001b[0;36m<module>\u001b[1;34m\u001b[0m\n\u001b[0;32m      7\u001b[0m             \u001b[0murl\u001b[0m \u001b[1;33m=\u001b[0m \u001b[0murl_1\u001b[0m \u001b[1;33m+\u001b[0m \u001b[0mword1\u001b[0m \u001b[1;33m+\u001b[0m \u001b[0murl_2\u001b[0m \u001b[1;33m+\u001b[0m \u001b[0mword2\u001b[0m \u001b[1;33m+\u001b[0m \u001b[0murl_3\u001b[0m \u001b[1;33m+\u001b[0m \u001b[0mword3\u001b[0m \u001b[1;33m+\u001b[0m \u001b[0murl_4\u001b[0m\u001b[1;33m\u001b[0m\u001b[1;33m\u001b[0m\u001b[0m\n\u001b[0;32m      8\u001b[0m \u001b[1;33m\u001b[0m\u001b[0m\n\u001b[1;32m----> 9\u001b[1;33m             \u001b[0mdriver\u001b[0m\u001b[1;33m.\u001b[0m\u001b[0mget\u001b[0m\u001b[1;33m(\u001b[0m\u001b[0murl\u001b[0m\u001b[1;33m)\u001b[0m\u001b[1;33m\u001b[0m\u001b[1;33m\u001b[0m\u001b[0m\n\u001b[0m\u001b[0;32m     10\u001b[0m \u001b[1;33m\u001b[0m\u001b[0m\n\u001b[0;32m     11\u001b[0m             \u001b[1;32mif\u001b[0m \u001b[1;33m[\u001b[0m\u001b[0mword1\u001b[0m\u001b[1;33m,\u001b[0m \u001b[0mword2\u001b[0m\u001b[1;33m,\u001b[0m \u001b[0mword3\u001b[0m\u001b[1;33m]\u001b[0m \u001b[1;32mnot\u001b[0m \u001b[1;32min\u001b[0m \u001b[0mkw_com_list\u001b[0m\u001b[1;33m:\u001b[0m\u001b[1;33m\u001b[0m\u001b[1;33m\u001b[0m\u001b[0m\n",
      "\u001b[1;32m~\\anaconda3\\lib\\site-packages\\selenium\\webdriver\\remote\\webdriver.py\u001b[0m in \u001b[0;36mget\u001b[1;34m(self, url)\u001b[0m\n\u001b[0;32m    435\u001b[0m         \u001b[0mLoads\u001b[0m \u001b[0ma\u001b[0m \u001b[0mweb\u001b[0m \u001b[0mpage\u001b[0m \u001b[1;32min\u001b[0m \u001b[0mthe\u001b[0m \u001b[0mcurrent\u001b[0m \u001b[0mbrowser\u001b[0m \u001b[0msession\u001b[0m\u001b[1;33m.\u001b[0m\u001b[1;33m\u001b[0m\u001b[1;33m\u001b[0m\u001b[0m\n\u001b[0;32m    436\u001b[0m         \"\"\"\n\u001b[1;32m--> 437\u001b[1;33m         \u001b[0mself\u001b[0m\u001b[1;33m.\u001b[0m\u001b[0mexecute\u001b[0m\u001b[1;33m(\u001b[0m\u001b[0mCommand\u001b[0m\u001b[1;33m.\u001b[0m\u001b[0mGET\u001b[0m\u001b[1;33m,\u001b[0m \u001b[1;33m{\u001b[0m\u001b[1;34m'url'\u001b[0m\u001b[1;33m:\u001b[0m \u001b[0murl\u001b[0m\u001b[1;33m}\u001b[0m\u001b[1;33m)\u001b[0m\u001b[1;33m\u001b[0m\u001b[1;33m\u001b[0m\u001b[0m\n\u001b[0m\u001b[0;32m    438\u001b[0m \u001b[1;33m\u001b[0m\u001b[0m\n\u001b[0;32m    439\u001b[0m     \u001b[1;33m@\u001b[0m\u001b[0mproperty\u001b[0m\u001b[1;33m\u001b[0m\u001b[1;33m\u001b[0m\u001b[0m\n",
      "\u001b[1;32m~\\anaconda3\\lib\\site-packages\\selenium\\webdriver\\remote\\webdriver.py\u001b[0m in \u001b[0;36mexecute\u001b[1;34m(self, driver_command, params)\u001b[0m\n\u001b[0;32m    423\u001b[0m         \u001b[0mresponse\u001b[0m \u001b[1;33m=\u001b[0m \u001b[0mself\u001b[0m\u001b[1;33m.\u001b[0m\u001b[0mcommand_executor\u001b[0m\u001b[1;33m.\u001b[0m\u001b[0mexecute\u001b[0m\u001b[1;33m(\u001b[0m\u001b[0mdriver_command\u001b[0m\u001b[1;33m,\u001b[0m \u001b[0mparams\u001b[0m\u001b[1;33m)\u001b[0m\u001b[1;33m\u001b[0m\u001b[1;33m\u001b[0m\u001b[0m\n\u001b[0;32m    424\u001b[0m         \u001b[1;32mif\u001b[0m \u001b[0mresponse\u001b[0m\u001b[1;33m:\u001b[0m\u001b[1;33m\u001b[0m\u001b[1;33m\u001b[0m\u001b[0m\n\u001b[1;32m--> 425\u001b[1;33m             \u001b[0mself\u001b[0m\u001b[1;33m.\u001b[0m\u001b[0merror_handler\u001b[0m\u001b[1;33m.\u001b[0m\u001b[0mcheck_response\u001b[0m\u001b[1;33m(\u001b[0m\u001b[0mresponse\u001b[0m\u001b[1;33m)\u001b[0m\u001b[1;33m\u001b[0m\u001b[1;33m\u001b[0m\u001b[0m\n\u001b[0m\u001b[0;32m    426\u001b[0m             response['value'] = self._unwrap_value(\n\u001b[0;32m    427\u001b[0m                 response.get('value', None))\n",
      "\u001b[1;32m~\\anaconda3\\lib\\site-packages\\selenium\\webdriver\\remote\\errorhandler.py\u001b[0m in \u001b[0;36mcheck_response\u001b[1;34m(self, response)\u001b[0m\n\u001b[0;32m    245\u001b[0m                 \u001b[0malert_text\u001b[0m \u001b[1;33m=\u001b[0m \u001b[0mvalue\u001b[0m\u001b[1;33m[\u001b[0m\u001b[1;34m'alert'\u001b[0m\u001b[1;33m]\u001b[0m\u001b[1;33m.\u001b[0m\u001b[0mget\u001b[0m\u001b[1;33m(\u001b[0m\u001b[1;34m'text'\u001b[0m\u001b[1;33m)\u001b[0m\u001b[1;33m\u001b[0m\u001b[1;33m\u001b[0m\u001b[0m\n\u001b[0;32m    246\u001b[0m             \u001b[1;32mraise\u001b[0m \u001b[0mexception_class\u001b[0m\u001b[1;33m(\u001b[0m\u001b[0mmessage\u001b[0m\u001b[1;33m,\u001b[0m \u001b[0mscreen\u001b[0m\u001b[1;33m,\u001b[0m \u001b[0mstacktrace\u001b[0m\u001b[1;33m,\u001b[0m \u001b[0malert_text\u001b[0m\u001b[1;33m)\u001b[0m  \u001b[1;31m# type: ignore[call-arg]  # mypy is not smart enough here\u001b[0m\u001b[1;33m\u001b[0m\u001b[1;33m\u001b[0m\u001b[0m\n\u001b[1;32m--> 247\u001b[1;33m         \u001b[1;32mraise\u001b[0m \u001b[0mexception_class\u001b[0m\u001b[1;33m(\u001b[0m\u001b[0mmessage\u001b[0m\u001b[1;33m,\u001b[0m \u001b[0mscreen\u001b[0m\u001b[1;33m,\u001b[0m \u001b[0mstacktrace\u001b[0m\u001b[1;33m)\u001b[0m\u001b[1;33m\u001b[0m\u001b[1;33m\u001b[0m\u001b[0m\n\u001b[0m\u001b[0;32m    248\u001b[0m \u001b[1;33m\u001b[0m\u001b[0m\n\u001b[0;32m    249\u001b[0m     \u001b[1;32mdef\u001b[0m \u001b[0m_value_or_default\u001b[0m\u001b[1;33m(\u001b[0m\u001b[0mself\u001b[0m\u001b[1;33m,\u001b[0m \u001b[0mobj\u001b[0m\u001b[1;33m:\u001b[0m \u001b[0mMapping\u001b[0m\u001b[1;33m[\u001b[0m\u001b[0m_KT\u001b[0m\u001b[1;33m,\u001b[0m \u001b[0m_VT\u001b[0m\u001b[1;33m]\u001b[0m\u001b[1;33m,\u001b[0m \u001b[0mkey\u001b[0m\u001b[1;33m:\u001b[0m \u001b[0m_KT\u001b[0m\u001b[1;33m,\u001b[0m \u001b[0mdefault\u001b[0m\u001b[1;33m:\u001b[0m \u001b[0m_VT\u001b[0m\u001b[1;33m)\u001b[0m \u001b[1;33m->\u001b[0m \u001b[0m_VT\u001b[0m\u001b[1;33m:\u001b[0m\u001b[1;33m\u001b[0m\u001b[1;33m\u001b[0m\u001b[0m\n",
      "\u001b[1;31mWebDriverException\u001b[0m: Message: chrome not reachable\n  (Session info: chrome=99.0.4844.82)\nStacktrace:\nBacktrace:\n\tOrdinal0 [0x007169A3+2582947]\n\tOrdinal0 [0x006AA6D1+2139857]\n\tOrdinal0 [0x005A3960+1063264]\n\tOrdinal0 [0x00598092+1015954]\n\tOrdinal0 [0x005988C8+1018056]\n\tOrdinal0 [0x0059A102+1024258]\n\tOrdinal0 [0x00593DE9+998889]\n\tOrdinal0 [0x005A4DD0+1068496]\n\tOrdinal0 [0x005F7B12+1407762]\n\tOrdinal0 [0x005E8366+1344358]\n\tOrdinal0 [0x005C5176+1200502]\n\tOrdinal0 [0x005C6066+1204326]\n\tGetHandleVerifier [0x008BBE02+1675858]\n\tGetHandleVerifier [0x0097036C+2414524]\n\tGetHandleVerifier [0x007ABB01+560977]\n\tGetHandleVerifier [0x007AA8D3+556323]\n\tOrdinal0 [0x006B020E+2163214]\n\tOrdinal0 [0x006B5078+2183288]\n\tOrdinal0 [0x006B51C0+2183616]\n\tOrdinal0 [0x006BEE1C+2223644]\n\tBaseThreadInitThunk [0x75C46739+25]\n\tRtlGetFullPathName_UEx [0x776E8E7F+1215]\n\tRtlGetFullPathName_UEx [0x776E8E4D+1165]\n"
     ]
    }
   ],
   "source": [
    "page_cnt = 0\n",
    "\n",
    "for word1 in keyword_avi:\n",
    "    for word2 in keyword_main:\n",
    "        for word3 in keyword_add:\n",
    "            \n",
    "            url = url_1 + word1 + url_2 + word2 + url_3 + word3 + url_4\n",
    "            \n",
    "            driver.get(url)\n",
    "            \n",
    "            if [word1, word2, word3] not in kw_com_list:\n",
    "                url_wr.writerow([word1, word2, word3])\n",
    "                pub_wr.writerow([word1, word2, word3])\n",
    "\n",
    "            next_condit = True\n",
    "            \n",
    "            while next_condit == True:\n",
    "                \n",
    "                if page_cnt == 5:\n",
    "                    cur_url = driver.current_url\n",
    "                    driver.close()\n",
    "                    subprocess.call('taskkill /F /im firefox.exe')\n",
    "                    tor = subprocess.run(\"C:/Users/happy/Desktop/Tor Browser/Browser/firefox.exe\")\n",
    "                    time.sleep(15)\n",
    "                    driver = webdriver.Chrome(chrome_options=options,executable_path='C:/Users/happy/chromedriver/chromedriver')\n",
    "                    driver.get(cur_url)\n",
    "                    page_cnt = 0\n",
    "                \n",
    "                rand_value = randint(1,5)\n",
    "                time.sleep(rand_value)         # 혹시 구글이 막을까 대기\n",
    "\n",
    "                tmp_list = driver.find_elements_by_class_name(\"ftSUBd\")\n",
    "\n",
    "                for tmp in tmp_list:\n",
    "                    news_url = tmp.find_element_by_tag_name('a').get_attribute('href')\n",
    "\n",
    "                    if news_url in news_urllist:\n",
    "                        continue\n",
    "                    else:\n",
    "                        news_urllist.append(news_url)\n",
    "                        url_wr.writerow(['','','',news_url])\n",
    "\n",
    "                        pub = tmp.find_element_by_tag_name('span').text\n",
    "                        pub_wr.writerow(['','','',pub])\n",
    "\n",
    "                try:\n",
    "                    next_page = driver.find_element_by_link_text(\"다음\")\n",
    "\n",
    "                    next_page.click()\n",
    "                    \n",
    "                    page_cnt += 1\n",
    "\n",
    "                except:\n",
    "                    next_condit = False\n"
   ]
  },
  {
   "cell_type": "code",
   "execution_count": null,
   "id": "47ad3721",
   "metadata": {},
   "outputs": [],
   "source": [
    "pub_file.close()\n",
    "url_file.close()"
   ]
  },
  {
   "cell_type": "code",
   "execution_count": null,
   "id": "699b4a81",
   "metadata": {},
   "outputs": [],
   "source": [
    "5071 5071"
   ]
  },
  {
   "cell_type": "code",
   "execution_count": null,
   "id": "fe3d8f8e",
   "metadata": {},
   "outputs": [],
   "source": [
    "------------------------test--------------------------------------------"
   ]
  },
  {
   "cell_type": "code",
   "execution_count": null,
   "id": "e463a53e",
   "metadata": {
    "code_folding": [
     0
    ]
   },
   "outputs": [],
   "source": [
    "# 이건 스킵\n",
    "word1 = 'aircraft'\n",
    "word2 = 'maintenance'\n",
    "word3 = 'improvement'\n",
    "\n",
    "url = url_1 + word1 + url_2 + word2 + url_3 + word3 + url_4\n",
    "\n",
    "driver.get(url)\n",
    "\n",
    "url_wr.writerow([word1, word2, word3])\n",
    "pub_wr.writerow([word1, word2, word3])"
   ]
  },
  {
   "cell_type": "code",
   "execution_count": 5,
   "id": "f957ff6e",
   "metadata": {},
   "outputs": [],
   "source": [
    "t_url = 'https://www.google.com/search?q=%22maintenance%22+and+%22aircraft%22+and+%22performance%22&biw=1855&bih=675&sxsrf=APq-WBvOmNmzP69jExVnEif6mbCl8fMRFA%3A1645860215478&source=lnt&tbs=cdr%3A1%2Ccd_min%3A1%2F1%2F2010%2Ccd_max%3A12%2F31%2F2020&tbm=nws'\n",
    "driver.get(t_url)\n",
    "req = driver.page_source\n",
    "soup = BeautifulSoup(req,'html.parser')"
   ]
  },
  {
   "cell_type": "code",
   "execution_count": 6,
   "id": "f9446431",
   "metadata": {
    "scrolled": true
   },
   "outputs": [
    {
     "ename": "NameError",
     "evalue": "name 'news_url' is not defined",
     "output_type": "error",
     "traceback": [
      "\u001b[1;31m---------------------------------------------------------------------------\u001b[0m",
      "\u001b[1;31mNameError\u001b[0m                                 Traceback (most recent call last)",
      "\u001b[1;32m<ipython-input-6-de60692ad278>\u001b[0m in \u001b[0;36m<module>\u001b[1;34m\u001b[0m\n\u001b[0;32m      4\u001b[0m     \u001b[0mn_url\u001b[0m \u001b[1;33m=\u001b[0m \u001b[0mtmp\u001b[0m\u001b[1;33m.\u001b[0m\u001b[0mfind\u001b[0m\u001b[1;33m(\u001b[0m\u001b[1;34m'a'\u001b[0m\u001b[1;33m)\u001b[0m\u001b[1;33m.\u001b[0m\u001b[0mget\u001b[0m\u001b[1;33m(\u001b[0m\u001b[1;34m'href'\u001b[0m\u001b[1;33m)\u001b[0m\u001b[1;33m\u001b[0m\u001b[1;33m\u001b[0m\u001b[0m\n\u001b[0;32m      5\u001b[0m \u001b[1;33m\u001b[0m\u001b[0m\n\u001b[1;32m----> 6\u001b[1;33m     \u001b[1;32mif\u001b[0m \u001b[0mnews_url\u001b[0m \u001b[1;32min\u001b[0m \u001b[0mnews_urllist\u001b[0m\u001b[1;33m:\u001b[0m\u001b[1;33m\u001b[0m\u001b[1;33m\u001b[0m\u001b[0m\n\u001b[0m\u001b[0;32m      7\u001b[0m         \u001b[1;32mcontinue\u001b[0m\u001b[1;33m\u001b[0m\u001b[1;33m\u001b[0m\u001b[0m\n\u001b[0;32m      8\u001b[0m     \u001b[1;32melse\u001b[0m\u001b[1;33m:\u001b[0m\u001b[1;33m\u001b[0m\u001b[1;33m\u001b[0m\u001b[0m\n",
      "\u001b[1;31mNameError\u001b[0m: name 'news_url' is not defined"
     ]
    }
   ],
   "source": [
    "t_list = soup.find_all('g-card',{'class':'ftSUBd'})\n",
    "\n",
    "for tmp in t_list:\n",
    "    n_url = tmp.find('a').get('href')\n",
    "\n",
    "    if news_url in news_urllist:\n",
    "        continue\n",
    "    else:\n",
    "        news_urllist.append(news_url)\n",
    "        with open(\"C:/Users/happy/Coding/jupyter/crawler/MROpaper/scrappedlist/newslink.csv\", 'a', newline = '', encoding='utf-8') as f:\n",
    "            wr = csv.writer(f)\n",
    "            wr.writerow(news_url)\n",
    "\n",
    "        pub = tmp.find('span').text\n",
    "\n",
    "        with open(\"C:/Users/happy/Coding/jupyter/crawler/MROpaper/scrappedlist/newslink.csv\", 'a', newline = '', encoding='utf-8') as f:\n",
    "            wr = csv.writer(f)\n",
    "            wr.writerow(pub)"
   ]
  },
  {
   "cell_type": "code",
   "execution_count": 17,
   "id": "b017cbbe",
   "metadata": {},
   "outputs": [
    {
     "name": "stdout",
     "output_type": "stream",
     "text": [
      "['https://www.cbc.ca/news/canada/manitoba/air-canada-maintenance-firm-shuts-down-plants-1.1217809', 'https://www.cnn.com/travel/article/qantas-london-sydney-airplane/index.html', 'https://ftnnews.com/aviation/36512-united-states-also-grounds-all-boeing-737-max-aircraft', 'https://www.marines.mil/News/News-Display/Article/589178/usmc-ot-1-kicks-off-with-lightning-ii-aircraft-landing-aboard-uss-wasp/', 'https://www.scientificamerican.com/article/southwest-airplane-aluminum-cracks/', 'https://www.aerospace-technology.com/news/pal-airbus-sign-maintenance-deal-a350-900-aircraft/', 'https://www.usatoday.com/story/travel/flights/2013/05/06/faa-aircraft-repair-inspections/2138755/', 'https://www.businesswire.com/news/home/20201020005906/en/Global-Aircraft-Engine-Condition-Monitoring-System-Market-Size-Analysis-by-Latest-Trends-2020-Global-Industry-Growth-Factors-CAGR-Status-Leading-Key-Players-Update-Business-Share-by-Regions-and-Forecast-to-2024-Technavio', 'https://skift.com/2017/11/13/southwest-has-minor-on-time-performance-issues-with-new-boeing-aircraft/', 'https://www.gov.uk/government/news/aaib-review-of-g-forces-in-shoreham-accident']\n",
      "['CBC', 'CNN', 'Focus on Travel News', 'Marines.mil', 'Scientific American', 'Aerospace Technology', 'USA Today', 'Business Wire', 'Skift', 'GOV.UK']\n"
     ]
    }
   ],
   "source": [
    "print(n_url)\n",
    "print(pub_list)"
   ]
  }
 ],
 "metadata": {
  "kernelspec": {
   "display_name": "Python 3",
   "language": "python",
   "name": "python3"
  },
  "language_info": {
   "codemirror_mode": {
    "name": "ipython",
    "version": 3
   },
   "file_extension": ".py",
   "mimetype": "text/x-python",
   "name": "python",
   "nbconvert_exporter": "python",
   "pygments_lexer": "ipython3",
   "version": "3.8.8"
  },
  "toc": {
   "base_numbering": 1,
   "nav_menu": {},
   "number_sections": true,
   "sideBar": true,
   "skip_h1_title": false,
   "title_cell": "Table of Contents",
   "title_sidebar": "Contents",
   "toc_cell": false,
   "toc_position": {},
   "toc_section_display": true,
   "toc_window_display": false
  },
  "varInspector": {
   "cols": {
    "lenName": 16,
    "lenType": 16,
    "lenVar": 40
   },
   "kernels_config": {
    "python": {
     "delete_cmd_postfix": "",
     "delete_cmd_prefix": "del ",
     "library": "var_list.py",
     "varRefreshCmd": "print(var_dic_list())"
    },
    "r": {
     "delete_cmd_postfix": ") ",
     "delete_cmd_prefix": "rm(",
     "library": "var_list.r",
     "varRefreshCmd": "cat(var_dic_list()) "
    }
   },
   "position": {
    "height": "584.844px",
    "left": "584px",
    "right": "20px",
    "top": "182px",
    "width": "697px"
   },
   "types_to_exclude": [
    "module",
    "function",
    "builtin_function_or_method",
    "instance",
    "_Feature"
   ],
   "window_display": false
  }
 },
 "nbformat": 4,
 "nbformat_minor": 5
}
